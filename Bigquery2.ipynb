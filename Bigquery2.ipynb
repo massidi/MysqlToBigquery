{
 "cells": [
  {
   "cell_type": "code",
   "execution_count": null,
   "id": "ffb94412",
   "metadata": {},
   "outputs": [],
   "source": [
    "# !pip install google-cloud-bigquery\n",
    "# !pip install mysql-connector-python\n",
    "# !pip install pandas\n",
    "# !pip install pyarrow\n"
   ]
  },
  {
   "cell_type": "code",
   "execution_count": null,
   "id": "166884c9-f4b0-4be9-974c-6df92cabfe82",
   "metadata": {},
   "outputs": [],
   "source": [
    "import mysql.connector\n",
    "from google.cloud import bigquery\n",
    "import os\n",
    "import pandas as pd  \n",
    "\n",
    "# Set the environment variable to point to your JSON credentials file\n",
    "\n",
    "os.environ[\"GOOGLE_APPLICATION_CREDENTIALS\"] = \"credentials/googleCloud/plexiform_credential.json\"\n",
    "\n",
    "# Load the DataFrame into BigQuery\n",
    "project_id = \"\"\n",
    "dataset_id = \"\"\n",
    "\n",
    "# Initialize the BigQuery client\n",
    "client = bigquery.Client(project=project_id)\n",
    "\n",
    "# Establish a connection to MySQL\n",
    "try:\n",
    "    connection = mysql.connector.connect(\n",
    "        host=\"localhost\",\n",
    "        user=\"root\",\n",
    "        password=\"\",\n",
    "        database=\"\"\n",
    "    )\n",
    "\n",
    "    if connection.is_connected():\n",
    "        print(\"Connected to MySQL database\")\n",
    "\n",
    "        cursor = connection.cursor()\n",
    "\n",
    "        # Get a list of all tables in the MySQL database\n",
    "        cursor.execute(\"SHOW TABLES\")\n",
    "        tables = [table[0] for table in cursor.fetchall()]\n",
    "\n",
    "        for table_name in tables:\n",
    "            # Create a BigQuery table reference\n",
    "            table_ref = client.dataset(dataset_id).table(table_name)\n",
    "\n",
    "            # Configure the job to append data if the table already exists\n",
    "            job_config = bigquery.LoadJobConfig(write_disposition=\"WRITE_TRUNCATE\")\n",
    "\n",
    "            # Fetch the data from MySQL\n",
    "            query = f\"SELECT * FROM {table_name}\"\n",
    "            cursor.execute(query)\n",
    "            \n",
    "            # Convert the data to a DataFrame\n",
    "            df = pd.DataFrame(cursor.fetchall(), columns=[i[0] for i in cursor.description])\n",
    "\n",
    "            if not df.empty:\n",
    "                # Load the data into BigQuery\n",
    "                job = client.load_table_from_dataframe(df, table_ref, job_config=job_config)\n",
    "                job.result()\n",
    "\n",
    "                print(f\"Loaded {len(df)} rows into BigQuery table {dataset_id}.{table_name}\")\n",
    "\n",
    "except mysql.connector.Error as error:\n",
    "    print(\"Error connecting to MySQL database:\", error)\n",
    "\n",
    "finally:\n",
    "    if 'cursor' in locals():\n",
    "        cursor.close()\n",
    "    if 'connection' in locals() and connection.is_connected():\n",
    "        connection.close()\n",
    "        print(\"Closed MySQL database connection\")\n"
   ]
  },
  {
   "cell_type": "code",
   "execution_count": null,
   "id": "55fd23e7-1ff2-406f-a59a-fb6a4c2ab34d",
   "metadata": {},
   "outputs": [],
   "source": []
  }
 ],
 "metadata": {
  "kernelspec": {
   "display_name": "Python 3 (ipykernel)",
   "language": "python",
   "name": "python3"
  },
  "language_info": {
   "codemirror_mode": {
    "name": "ipython",
    "version": 3
   },
   "file_extension": ".py",
   "mimetype": "text/x-python",
   "name": "python",
   "nbconvert_exporter": "python",
   "pygments_lexer": "ipython3",
   "version": "3.11.5"
  }
 },
 "nbformat": 4,
 "nbformat_minor": 5
}
