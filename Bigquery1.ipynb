{
 "cells": [
  {
   "cell_type": "code",
   "execution_count": 9,
   "id": "a42a578f",
   "metadata": {},
   "outputs": [
    {
     "name": "stdout",
     "output_type": "stream",
     "text": [
      "Erreur de connexion à la base de données: 2003 (HY000): Can't connect to MySQL server on 'localhost:3306' (10061)\n"
     ]
    }
   ],
   "source": [
    "import mysql.connector\n",
    "\n",
    "# Connexion à la base de données\n",
    "try:\n",
    "    connection = mysql.connector.connect(\n",
    "        host=\"localhost\",    # Adresse du serveur MySQL\n",
    "        user=\"root\",  # Nom d'utilisateur MySQL\n",
    "        password=\"\",  # Mot de passe MySQL\n",
    "        database=\"Hasap\"  # Nom de la base de données MySQL\n",
    "    )\n",
    "\n",
    "    if connection.is_connected():\n",
    "        print(\"Connecté à la base de données MySQL\")\n",
    "\n",
    "        # Crée un curseur pour exécuter des requêtes SQL\n",
    "        cursor = connection.cursor()\n",
    "\n",
    "        # Exemple de requête SQL\n",
    "        query = \"SELECT * FROM chantiers\"\n",
    "\n",
    "        # Exécute la requête SQL\n",
    "        cursor.execute(query)\n",
    "\n",
    "        # Récupère les résultats\n",
    "        for row in cursor.fetchall():\n",
    "            display(row)\n",
    "\n",
    "except mysql.connector.Error as error:\n",
    "    print(\"Erreur de connexion à la base de données:\", error)\n",
    "\n",
    "finally:\n",
    "    # Ferme le curseur et la connexion à la base de données\n",
    "    if 'cursor' in locals():\n",
    "        cursor.close()\n",
    "    if 'connection' in locals() and connection.is_connected():\n",
    "        connection.close()\n",
    "        # print(\"Connexion à la base de données MySQL fermée\")\n"
   ]
  },
  {
   "cell_type": "code",
   "execution_count": 5,
   "id": "f30b3fbb",
   "metadata": {},
   "outputs": [
    {
     "name": "stdout",
     "output_type": "stream",
     "text": [
      "Error connecting to MySQL database: 2003 (HY000): Can't connect to MySQL server on 'localhost:3306' (10061)\n"
     ]
    },
    {
     "data": {
      "text/html": [
       "<div>\n",
       "<style scoped>\n",
       "    .dataframe tbody tr th:only-of-type {\n",
       "        vertical-align: middle;\n",
       "    }\n",
       "\n",
       "    .dataframe tbody tr th {\n",
       "        vertical-align: top;\n",
       "    }\n",
       "\n",
       "    .dataframe thead th {\n",
       "        text-align: right;\n",
       "    }\n",
       "</style>\n",
       "<table border=\"1\" class=\"dataframe\">\n",
       "  <thead>\n",
       "    <tr style=\"text-align: right;\">\n",
       "      <th></th>\n",
       "      <th>idcod_projet</th>\n",
       "      <th>reference</th>\n",
       "      <th>nom_chantier</th>\n",
       "      <th>cop_chantier</th>\n",
       "      <th>cond_trav</th>\n",
       "      <th>int_termine</th>\n",
       "      <th>int_avant_projet</th>\n",
       "      <th>cde_tot_ht</th>\n",
       "      <th>fact_tot_ht</th>\n",
       "      <th>date_debut</th>\n",
       "      <th>date_fin</th>\n",
       "      <th>dev_tot_ht</th>\n",
       "      <th>montant_conso</th>\n",
       "      <th>agence</th>\n",
       "      <th>modif</th>\n",
       "    </tr>\n",
       "  </thead>\n",
       "  <tbody>\n",
       "  </tbody>\n",
       "</table>\n",
       "</div>"
      ],
      "text/plain": [
       "Empty DataFrame\n",
       "Columns: [idcod_projet, reference, nom_chantier, cop_chantier, cond_trav, int_termine, int_avant_projet, cde_tot_ht, fact_tot_ht, date_debut, date_fin, dev_tot_ht, montant_conso, agence, modif]\n",
       "Index: []"
      ]
     },
     "metadata": {},
     "output_type": "display_data"
    }
   ],
   "source": [
    "import mysql.connector\n",
    "import pandas as pd\n",
    "from google.cloud import bigquery\n",
    "\n",
    "# Establish a connection to MySQL and fetch data\n",
    "try:\n",
    "    connection = mysql.connector.connect(\n",
    "        host=\"localhost\",\n",
    "        user=\"root\",\n",
    "        password=\"\",\n",
    "        database=\"\"\n",
    "    )\n",
    "\n",
    "    if connection.is_connected():\n",
    "        print(\"Connected to MySQL database\")\n",
    "\n",
    "        cursor = connection.cursor()\n",
    "\n",
    "        query = \"SELECT * FROM exp_devis_susc_det\"\n",
    "\n",
    "        cursor.execute(query)\n",
    "\n",
    "        # Fetch all rows into a list of tuples\n",
    "        rows = cursor.fetchall()\n",
    "\n",
    "except mysql.connector.Error as error:\n",
    "    print(\"Error connecting to MySQL database:\", error)\n",
    "    rows = []\n",
    "\n",
    "finally:\n",
    "    if 'cursor' in locals():\n",
    "        cursor.close()\n",
    "    if 'connection' in locals() and connection.is_connected():\n",
    "        connection.close()\n",
    "        print(\"Closed MySQL database connection\")\n",
    "\n",
    "# Convert the MySQL data to a DataFrame\n",
    "column_names = [desc[0] for desc in cursor.description]\n",
    "df = pd.DataFrame(rows, columns=column_names)\n",
    "\n",
    "display(df)\n",
    "\n",
    "\n"
   ]
  },
  {
   "cell_type": "code",
   "execution_count": 17,
   "id": "31459995",
   "metadata": {
    "scrolled": true
   },
   "outputs": [
    {
     "name": "stderr",
     "output_type": "stream",
     "text": [
      "C:\\Users\\reddy.massidisemi\\AppData\\Local\\Programs\\Python\\Python311\\Lib\\site-packages\\google\\cloud\\bigquery\\_pandas_helpers.py:603: UserWarning: Pyarrow could not determine the type of columns: type_ligne, IDLIGNE_ENETE, IDLIGNE_RUPTUER, agence, modif.\n",
      "  warnings.warn(\n"
     ]
    },
    {
     "name": "stdout",
     "output_type": "stream",
     "text": [
      "Loaded 1874053 rows into BigQuery table plexiform-muse-393209.Hasap.devis_lignes\n"
     ]
    }
   ],
   "source": [
    "\n",
    "import os\n",
    "\n",
    "# Set the environment variable to point to your JSON credentials file\n",
    "os.environ[\"GOOGLE_APPLICATION_CREDENTIALS\"] = \"C:\\\\Users\\\\reddy.massidisemi\\\\LoadDataBigQuery\\\\credentials\\\\googleCloud\\\\plexiform_credential.json\"\n",
    "\n",
    "\n",
    "# Load the DataFrame into BigQuery\n",
    "project_id = \"\"\n",
    "dataset_id = \"\"\n",
    "table_id = \"\"\n",
    "\n",
    "client = bigquery.Client(project=project_id)\n",
    "\n",
    "# Specify the BigQuery table to load the data into\n",
    "table_ref = client.dataset(dataset_id).table(table_id)\n",
    "\n",
    "# Configure the job to append data if the table already exists\n",
    "job_config = bigquery.LoadJobConfig(write_disposition=\"WRITE_TRUNCATE\")\n",
    "\n",
    "# Load the DataFrame into BigQuery\n",
    "job = client.load_table_from_dataframe(df, table_ref, job_config=job_config)\n",
    "\n",
    "# Wait for the job to complete\n",
    "job.result()\n",
    "\n",
    "print(f\"Loaded {len(df)} rows into BigQuery table {project_id}.{dataset_id}.{table_id}\")"
   ]
  },
  {
   "cell_type": "code",
   "execution_count": null,
   "id": "34077ece-00b8-42a7-8064-ab3a6463cad6",
   "metadata": {},
   "outputs": [],
   "source": []
  }
 ],
 "metadata": {
  "kernelspec": {
   "display_name": "Python 3 (ipykernel)",
   "language": "python",
   "name": "python3"
  },
  "language_info": {
   "codemirror_mode": {
    "name": "ipython",
    "version": 3
   },
   "file_extension": ".py",
   "mimetype": "text/x-python",
   "name": "python",
   "nbconvert_exporter": "python",
   "pygments_lexer": "ipython3",
   "version": "3.11.5"
  }
 },
 "nbformat": 4,
 "nbformat_minor": 5
}
